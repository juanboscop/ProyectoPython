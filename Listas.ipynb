{
 "cells": [
  {
   "cell_type": "code",
   "execution_count": 23,
   "metadata": {},
   "outputs": [
    {
     "name": "stdout",
     "output_type": "stream",
     "text": [
      "\n",
      " Welcome to Bosco's letter counter app\n",
      "\n",
      "\n",
      "Hello Bosco \n",
      "this is how many o in your sentence =3\n"
     ]
    }
   ],
   "source": [
    "#Letter counter app\n",
    "print(\"\\n Welcome to Bosco's letter counter app\\n\")\n",
    "name = input(\"What's your name\").capitalize()\n",
    "print(f\"\\nHello {name}\")\n",
    "\n",
    "sentence  = input(\"Enter sentence: \")\n",
    "word = input(\"Enter word you want to count\")\n",
    "print(f\"this is how many {word}'s are in your sentence ={sentence.count(word)}\")"
   ]
  },
  {
   "cell_type": "code",
   "execution_count": 4,
   "metadata": {},
   "outputs": [
    {
     "ename": "TypeError",
     "evalue": "can't multiply sequence by non-int of type 'float'",
     "output_type": "error",
     "traceback": [
      "\u001b[0;31m---------------------------------------------------------------------------\u001b[0m",
      "\u001b[0;31mTypeError\u001b[0m                                 Traceback (most recent call last)",
      "\u001b[0;32m/tmp/ipykernel_190036/813774330.py\u001b[0m in \u001b[0;36m<module>\u001b[0;34m\u001b[0m\n\u001b[1;32m      2\u001b[0m \u001b[0mmiles\u001b[0m \u001b[0;34m=\u001b[0m \u001b[0mfloat\u001b[0m\u001b[0;34m(\u001b[0m\u001b[0minput\u001b[0m\u001b[0;34m(\u001b[0m\u001b[0;34m\"Enter speed in miles:\"\u001b[0m\u001b[0;34m)\u001b[0m\u001b[0;34m)\u001b[0m\u001b[0;34m\u001b[0m\u001b[0;34m\u001b[0m\u001b[0m\n\u001b[1;32m      3\u001b[0m \u001b[0mconverted\u001b[0m \u001b[0;34m=\u001b[0m \u001b[0;36m0\u001b[0m\u001b[0;34m,\u001b[0m\u001b[0;36m44704\u001b[0m\u001b[0;34m\u001b[0m\u001b[0;34m\u001b[0m\u001b[0m\n\u001b[0;32m----> 4\u001b[0;31m \u001b[0mtotal\u001b[0m \u001b[0;34m=\u001b[0m \u001b[0mround\u001b[0m\u001b[0;34m(\u001b[0m\u001b[0mmiles\u001b[0m \u001b[0;34m*\u001b[0m \u001b[0mconverted\u001b[0m\u001b[0;34m,\u001b[0m \u001b[0;36m2\u001b[0m\u001b[0;34m)\u001b[0m\u001b[0;34m\u001b[0m\u001b[0;34m\u001b[0m\u001b[0m\n\u001b[0m\u001b[1;32m      5\u001b[0m \u001b[0mprint\u001b[0m\u001b[0;34m(\u001b[0m\u001b[0;34mf\"The speed in metres per second is = {total}\"\u001b[0m\u001b[0;34m)\u001b[0m\u001b[0;34m\u001b[0m\u001b[0;34m\u001b[0m\u001b[0m\n",
      "\u001b[0;31mTypeError\u001b[0m: can't multiply sequence by non-int of type 'float'"
     ]
    }
   ],
   "source": [
    "#miles to metres coverter:\n",
    "miles = float(input(\"Enter speed in miles:\"))\n",
    "converted = 0,44704\n",
    "total = round(miles * converted, 2)\n",
    "print(f\"The speed in metres per second is = {total}\")\n"
   ]
  },
  {
   "cell_type": "code",
   "execution_count": 18,
   "metadata": {},
   "outputs": [
    {
     "name": "stdout",
     "output_type": "stream",
     "text": [
      "\n",
      "Welcome to bosco's temperature converter program\n",
      "\n",
      "\n",
      "      \n",
      " this is 139.98 Farenheit\n",
      "      \n",
      " this is 59.9889 celsius\n",
      "      \n",
      " this is 333.1389 kelvin\n",
      "                                        \n"
     ]
    }
   ],
   "source": [
    "#temperature coverter app\n",
    "print(\"\\nWelcome to bosco's temperature converter program\\n\")\n",
    "\n",
    "temperature = float(input(\"Enter the temperature in Farenheit: \"))\n",
    "\n",
    "celsius = round((temperature - 32)* 5/9,4)\n",
    "kelvin = round((temperature - 32)* 5/9 + 273.15,4)\n",
    "print(f\"\"\"\n",
    "      \\n this is {temperature} Farenheit\n",
    "      \\n this is {celsius} celsius\n",
    "      \\n this is {kelvin} kelvin\n",
    "                                        \"\"\")\n",
    "      \n",
    " this is 59.9889 celsius      \n",
    " this is 59.9889 celsius\n",
    "      \n",
    " this is 333.1389 kelvin\n",
    "      \n",
    " this is 333.1389 kelvin\n",
    "\n"
   ]
  },
  {
   "cell_type": "code",
   "execution_count": 21,
   "metadata": {},
   "outputs": [
    {
     "name": "stdout",
     "output_type": "stream",
     "text": [
      "\n",
      "Welcome to the hipotinuse solver app\n",
      "\n",
      "The hipotenuse is = 12.041594578792296\n"
     ]
    }
   ],
   "source": [
    "#the right triangle solver app\n",
    "import math\n",
    "print(\"\\nWelcome to the hipotinuse solver app\\n\")\n",
    "side1 = int(input(\"Enter side 1: \"))\n",
    "side2 = int(input(\"Enter side 2: \"))\n",
    "total = side1**2 + side2**2\n",
    "hipotenuse = math.sqrt(total)\n",
    "print(f\"The hipotenuse is = {hipotenuse}\")"
   ]
  },
  {
   "cell_type": "code",
   "execution_count": 25,
   "metadata": {},
   "outputs": [
    {
     "name": "stdout",
     "output_type": "stream",
     "text": [
      "Welcome to the Multiplication/Exponent Table App\n",
      "\n",
      "Multiplication Table For 9.0\n",
      "\n",
      "\t1.0 * 9.0 = 9.0\n",
      "\t2.0 * 9.0 = 18.0\n",
      "\t3.0 * 9.0 = 27.0\n",
      "\t4.0 * 9.0 = 36.0\n",
      "\t5.0 * 9.0 = 45.0\n",
      "\t6.0 * 9.0 = 54.0\n",
      "\t7.0 * 9.0 = 63.0\n",
      "\t8.0 * 9.0 = 72.0\n",
      "\t9.0 * 9.0 = 81.0\n",
      "\n",
      "Exponent Table For 9.0\n",
      "\n",
      "\t9.0 * 1 = 9.0\n",
      "\t9.0 * 2 = 18.0\n",
      "\t9.0 * 3 = 27.0\n",
      "\t9.0 * 4 = 36.0\n",
      "\t9.0 * 5 = 45.0\n",
      "\t9.0 * 6 = 54.0\n",
      "\t9.0 * 7 = 63.0\n",
      "\t9.0 * 8 = 72.0\n",
      "\t9.0 * 9 = 387420489.0\n",
      "\n",
      "Bosco Math is cool! \n",
      "\t bosco math is cool! \n",
      "\t\t Bosco Math Is Cool! \n",
      "\t\t\t BOSCO MATH IS COOL!\n"
     ]
    }
   ],
   "source": [
    "#multiplication/exponent table app:\n",
    "def is_number(s):\n",
    "    try:\n",
    "        float(s)\n",
    "        return True\n",
    "    except ValueError:\n",
    "        return False\n",
    "print('Welcome to the Multiplication/Exponent Table App')\n",
    "\n",
    "name = input('\\nWhat is your name? ').title()\n",
    "num = float(input('What number would you like to work with? '))\n",
    "if is_number(num) == False:\n",
    "  print('Please enter a valid number')\n",
    "\n",
    "print('\\nMultiplication Table For', num)\n",
    "\n",
    "print(f'\\n\\t1.0 * {num} = {round(1*num,4)}\\n\\t2.0 * {num} = {round(2*num,4)}\\n\\t3.0 * {num} = {round(3*num,4)}\\n\\t4.0 * {num} = {round(4*num,4)}\\n\\t5.0 * {num} = {round(5*num,4)}\\n\\t6.0 * {num} = {round(6*num,4)}\\n\\t7.0 * {num} = {round(7*num,4)}\\n\\t8.0 * {num} = {round(8*num,4)}\\n\\t9.0 * {num} = {round(9*num,4)}')\n",
    "\n",
    "print(f'\\nExponent Table For {num}')\n",
    "\n",
    "print(f'\\n\\t{num} * 1 = {round(num,4)}\\n\\t{num} * 2 = {round(num*2,4)}\\n\\t{num} * 3 = {round(num*3,4)}\\n\\t{num} * 4 = {round(num*4,4)}\\n\\t{num} * 5 = {round(num*5,4)}\\n\\t{num} * 6 = {round(num*6,4)}\\n\\t{num} * 7 = {round(num*7,4)}\\n\\t{num} * 8 = {round(num*8,4)}\\n\\t{num} * 9 = {round(num**9,4)}\\n')\n",
    "\n",
    "message = name + ' Math is cool!'\n",
    "print(message, '\\n\\t', message.lower(), '\\n\\t\\t', message.title(), '\\n\\t\\t\\t', message.upper())"
   ]
  },
  {
   "cell_type": "code",
   "execution_count": null,
   "metadata": {},
   "outputs": [],
   "source": []
  }
 ],
 "metadata": {
  "interpreter": {
   "hash": "916dbcbb3f70747c44a77c7bcd40155683ae19c65e1c03b4aa3499c5328201f1"
  },
  "kernelspec": {
   "display_name": "Python 3.8.10 64-bit",
   "language": "python",
   "name": "python3"
  },
  "language_info": {
   "codemirror_mode": {
    "name": "ipython",
    "version": 3
   },
   "file_extension": ".py",
   "mimetype": "text/x-python",
   "name": "python",
   "nbconvert_exporter": "python",
   "pygments_lexer": "ipython3",
   "version": "3.8.10"
  },
  "orig_nbformat": 4
 },
 "nbformat": 4,
 "nbformat_minor": 2
}
